{
 "cells": [
  {
   "cell_type": "code",
   "execution_count": 16,
   "id": "e4550740-2216-499f-9f86-e0bd5ee846d9",
   "metadata": {},
   "outputs": [],
   "source": [
    "import pandas as pd\n",
    "import spacy"
   ]
  },
  {
   "cell_type": "code",
   "execution_count": 18,
   "id": "4173f7bb-7f26-47bf-8ddb-c9b1940f0fad",
   "metadata": {},
   "outputs": [],
   "source": [
    "nlp = spacy.load('en_core_web_sm')\n",
    "df = pd.read_excel('Book1.xlsx', header=None)\n",
    "texts = df.iloc[:, 0].astype(str).tolist()\n",
    "\n",
    "unique_words = set()\n",
    "processed_data = []"
   ]
  },
  {
   "cell_type": "code",
   "execution_count": 20,
   "id": "a5d20ea9-0ef8-4857-9ca9-fbc3064a8c9e",
   "metadata": {},
   "outputs": [
    {
     "name": "stdout",
     "output_type": "stream",
     "text": [
      "<bound method NDFrame.head of                                                      0\n",
      "0    22AmericanfirstRT @chicksonright: If this isn’...\n",
      "1    RT @RealBiddle: @DatoFreddy @Sinbaddusnavy @th...\n",
      "2    I agree with you... and I basically do same th...\n",
      "3    No such thing as a bad dog.. Personally I thin...\n",
      "4    RT @moekaye1: @22Americanfirst I say choice B....\n",
      "..                                                 ...\n",
      "495      I love how The Internet opens up it\"s albums.\n",
      "496                       ???? https://t.co/L6rVPxHnSe\n",
      "497  @ItsTheBAUCE Yea that type of shit is inexcusa...\n",
      "498  As seen with the GOP standing behind Trump reg...\n",
      "499  I bet the N\"s in Offset circle screaming \"Free...\n",
      "\n",
      "[500 rows x 1 columns]>\n"
     ]
    }
   ],
   "source": [
    "excel_file = 'Book1.xlsx'  # Replace with your Excel file\n",
    "df_excel = pd.read_excel(excel_file, header=None)\n",
    "\n",
    "print(df_excel.head)\n",
    "\n",
    "if df_excel.empty:\n",
    "    raise ValueError(\"The dataset is empty\")\n",
    "\n",
    "first_column = df_excel.columns[0]"
   ]
  },
  {
   "cell_type": "code",
   "execution_count": 22,
   "id": "2614172c-fbb9-45c4-a2a4-dd1e637f3cf1",
   "metadata": {},
   "outputs": [],
   "source": [
    "for text in texts:\n",
    "    doc = nlp(text)\n",
    "    for token in doc:\n",
    "        if (token.like_url or \n",
    "            token.text.startswith('@') or \n",
    "            token.text.lower() == 'rt' or\n",
    "            token.is_punct):\n",
    "            continue\n",
    "            \n",
    "        if token.is_stop:\n",
    "            continue\n",
    "            \n",
    "        unique_words.add(token.lemma_)\n",
    "        processed_data.append({\n",
    "            'Original': token.text,\n",
    "            'Base Form': token.lemma_\n",
    "        })"
   ]
  },
  {
   "cell_type": "code",
   "execution_count": 24,
   "id": "244d0f54-4f4f-4c80-ba46-cdd12e9e049f",
   "metadata": {},
   "outputs": [],
   "source": [
    "result_df = pd.DataFrame(processed_data)\n",
    "result_df.to_excel('MendozaRyu_Activity1_Output.xlsx', index=False)"
   ]
  },
  {
   "cell_type": "code",
   "execution_count": null,
   "id": "7a223f80-8897-4b22-a94c-0c7be09fa159",
   "metadata": {},
   "outputs": [],
   "source": []
  }
 ],
 "metadata": {
  "kernelspec": {
   "display_name": "Python 3 (ipykernel)",
   "language": "python",
   "name": "python3"
  },
  "language_info": {
   "codemirror_mode": {
    "name": "ipython",
    "version": 3
   },
   "file_extension": ".py",
   "mimetype": "text/x-python",
   "name": "python",
   "nbconvert_exporter": "python",
   "pygments_lexer": "ipython3",
   "version": "3.12.7"
  }
 },
 "nbformat": 4,
 "nbformat_minor": 5
}
